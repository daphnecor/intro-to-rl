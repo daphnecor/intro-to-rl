{
  "nbformat": 4,
  "nbformat_minor": 0,
  "metadata": {
    "colab": {
      "provenance": [],
      "collapsed_sections": [
        "NcJiEmPSF3IB"
      ],
      "authorship_tag": "ABX9TyNzcusEzeGWiqqxIZjfP+VI",
      "include_colab_link": true
    },
    "kernelspec": {
      "name": "python3",
      "display_name": "Python 3"
    },
    "language_info": {
      "name": "python"
    }
  },
  "cells": [
    {
      "cell_type": "markdown",
      "metadata": {
        "id": "view-in-github",
        "colab_type": "text"
      },
      "source": [
        "<a href=\"https://colab.research.google.com/github/daphnecor/intro-to-rl/blob/main/Chapter_4_Dynamic_Programming.ipynb\" target=\"_parent\"><img src=\"https://colab.research.google.com/assets/colab-badge.svg\" alt=\"Open In Colab\"/></a>"
      ]
    },
    {
      "cell_type": "code",
      "execution_count": 14,
      "metadata": {
        "id": "lgAS2T-oputf"
      },
      "outputs": [],
      "source": [
        "#@title Dependencies\n",
        "import numpy as np\n",
        "import pandas as pd\n",
        "import seaborn as sns\n",
        "import matplotlib.pyplot as plt\n",
        "from typing import Tuple, List\n",
        "\n",
        "sns.set('notebook', font_scale=1.1, rc={'figure.figsize': (8, 7)})\n",
        "sns.set_style('ticks', rc={'figure.facecolor': 'none', 'axes.facecolor': 'none'})\n",
        "%config InlineBackend.figure_format = 'svg'"
      ]
    },
    {
      "cell_type": "markdown",
      "source": [
        "## Chapter 4. Dynamic Programming\n",
        "\n"
      ],
      "metadata": {
        "id": "AvvFSn8dFvvG"
      }
    },
    {
      "cell_type": "markdown",
      "source": [
        "### 4.1 Policy Evaluation\n",
        "\n",
        "---\n",
        "\n",
        "Let's reproduce Figure 4.1 from the book (page 77). We want to implement policy iteration and show that the policy converges to the optimal policy -- satisfying the Bellman optimality equations -- within a finite number of steps. ($v_{k} \\to v_\\pi$ as $k \\to \\infty$).\n",
        "\n",
        "We follow the in-place iterative policy evaluation algorithm on page 75.\n"
      ],
      "metadata": {
        "id": "AtonViVu9pUk"
      }
    },
    {
      "cell_type": "code",
      "source": [
        "def is_terminal(state: np.array) -> bool:\n",
        "    '''\n",
        "    Assume that upper left and bottom right are terminal states. \n",
        "    \n",
        "    Args:\n",
        "        state: the (x, y) coordinates of the grid world.\n",
        "    Return:\n",
        "        Whether the state is a terminal state (True) or not (False).\n",
        "    '''\n",
        "    x, y = state\n",
        "    if (x == 0 and y == 0) or (x == N_ROWS-1 and y == N_COLS-1): \n",
        "        return True\n",
        "    else:\n",
        "        return False"
      ],
      "metadata": {
        "id": "oEqNKL5jp3O3"
      },
      "execution_count": 33,
      "outputs": []
    },
    {
      "cell_type": "code",
      "source": [
        "def step(state: np.array, action: int) -> Tuple[np.array, int]:\n",
        "    '''\n",
        "    Take a step in the small grid world.\n",
        "\n",
        "    Args:\n",
        "        state: the (x, y) coordinates; current position of the agent.\n",
        "        action: the selected action.\n",
        "    Returns:\n",
        "        next_state: the position of the agent after taking the action in the state.\n",
        "        reward: the reward signal optained.\n",
        "    '''\n",
        "    # Check if the agent is in a terminal state\n",
        "    if is_terminal(state):\n",
        "        return (\n",
        "            state, 0\n",
        "        )\n",
        "    \n",
        "    # Take action\n",
        "    next_state = state + action\n",
        "\n",
        "    # make sure we stay inside our grid world\n",
        "    x, y = next_state\n",
        "    if x < 0 or (x > N_ROWS-1) or y < 0 or (y > N_COLS-1):\n",
        "        next_state = state     \n",
        "    reward = -1\n",
        "\n",
        "    #print(f'State: {state}')\n",
        "    #print(f'Next state: {next_state}')\n",
        "\n",
        "    return next_state, reward"
      ],
      "metadata": {
        "id": "bNXw2tWP9n7F"
      },
      "execution_count": 78,
      "outputs": []
    },
    {
      "cell_type": "code",
      "source": [
        "# Create a simple grid world\n",
        "N_ROWS = 4\n",
        "N_COLS = 4\n",
        "\n",
        "# Left, right, up, down\n",
        "ACTIONS = (\n",
        "    np.array([0, -1]),\n",
        "    np.array([0, 1]),\n",
        "    np.array([1, 0]),\n",
        "    np.array([-1, 0]),\n",
        ")\n",
        "\n",
        "# Use a random policy; all actions are equally likely\n",
        "PI_RAND = 1 / len(ACTIONS)\n",
        "\n",
        "# Parameters\n",
        "TERMINATE = False\n",
        "THETA = 1e-3\n",
        "iters = 0\n",
        "GAMMA = 1\n",
        "\n",
        "# Create grid to track the value of each state\n",
        "new_state_values = np.zeros((N_ROWS, N_COLS))\n",
        "\n",
        "while not TERMINATE:\n",
        "    \n",
        "    # Current is new and previous is old\n",
        "    state_values = new_state_values.copy()\n",
        "    old_state_values = state_values.copy()\n",
        "\n",
        "    # Loop for each state s \n",
        "    for row_i in range(N_ROWS):\n",
        "        for col_i in range(N_COLS):\n",
        "            state_value = 0 \n",
        "            for action in ACTIONS:\n",
        "                state = np.array([row_i, col_i])\n",
        "\n",
        "                next_state, reward = step(state, action)\n",
        "\n",
        "                # Add value to state\n",
        "                state_value += PI_RAND * (reward + GAMMA * state_values[next_state.to_list()])\n",
        "\n",
        "            # Update state value\n",
        "            new_state_values[row_i, col_i] = state_value\n",
        "        \n",
        "    iters += 1\n",
        "\n",
        "    DELTA = abs(old_state_values - new_state_values).max()\n",
        "    \n",
        "    # Stop when meets criteria\n",
        "    if DELTA < THETA:\n",
        "        TERMINATE = True"
      ],
      "metadata": {
        "id": "QvgQUTg2zbs3"
      },
      "execution_count": 69,
      "outputs": []
    },
    {
      "cell_type": "code",
      "source": [
        "sns.heatmap(state_values, annot=True, cbar=False, cmap='Blues');\n",
        "plt.title(r'$v_{k}$ for the random policy', y=1.05);"
      ],
      "metadata": {
        "colab": {
          "base_uri": "https://localhost:8080/",
          "height": 623
        },
        "id": "5kYBH1-8KzKx",
        "outputId": "fb7cb0a7-9d8c-4d19-8419-3419dd566f24"
      },
      "execution_count": 79,
      "outputs": [
        {
          "output_type": "display_data",
          "data": {
            "text/plain": [
              "<Figure size 576x504 with 1 Axes>"
            ],
            "image/svg+xml": "<?xml version=\"1.0\" encoding=\"utf-8\" standalone=\"no\"?>\n<!DOCTYPE svg PUBLIC \"-//W3C//DTD SVG 1.1//EN\"\n  \"http://www.w3.org/Graphics/SVG/1.1/DTD/svg11.dtd\">\n<svg xmlns:xlink=\"http://www.w3.org/1999/xlink\" width=\"482.010531pt\" height=\"451.188531pt\" viewBox=\"0 0 482.010531 451.188531\" xmlns=\"http://www.w3.org/2000/svg\" version=\"1.1\">\n <metadata>\n  <rdf:RDF xmlns:dc=\"http://purl.org/dc/elements/1.1/\" xmlns:cc=\"http://creativecommons.org/ns#\" xmlns:rdf=\"http://www.w3.org/1999/02/22-rdf-syntax-ns#\">\n   <cc:Work>\n    <dc:type rdf:resource=\"http://purl.org/dc/dcmitype/StillImage\"/>\n    <dc:date>2023-03-10T11:00:19.471745</dc:date>\n    <dc:format>image/svg+xml</dc:format>\n    <dc:creator>\n     <cc:Agent>\n      <dc:title>Matplotlib v3.5.3, https://matplotlib.org/</dc:title>\n     </cc:Agent>\n    </dc:creator>\n   </cc:Work>\n  </rdf:RDF>\n </metadata>\n <defs>\n  <style type=\"text/css\">*{stroke-linejoin: round; stroke-linecap: butt}</style>\n </defs>\n <g id=\"figure_1\">\n  <g id=\"patch_1\">\n   <path d=\"M 0 451.188531 \nL 482.010531 451.188531 \nL 482.010531 0 \nL 0 0 \nL 0 451.188531 \nz\n\" style=\"fill: none\"/>\n  </g>\n  <g id=\"axes_1\">\n   <g id=\"patch_2\">\n    <path d=\"M 28.410531 422.778 \nL 474.810531 422.778 \nL 474.810531 42.258 \nL 28.410531 42.258 \nL 28.410531 422.778 \nz\n\" style=\"fill: none\"/>\n   </g>\n   <g id=\"matplotlib.axis_1\">\n    <g id=\"xtick_1\">\n     <g id=\"line2d_1\">\n      <defs>\n       <path id=\"ma5232e30a8\" d=\"M 0 0 \nL 0 6 \n\" style=\"stroke: #262626; stroke-width: 1.25\"/>\n      </defs>\n      <g>\n       <use xlink:href=\"#ma5232e30a8\" x=\"84.210531\" y=\"422.778\" style=\"fill: #262626; stroke: #262626; stroke-width: 1.25\"/>\n      </g>\n     </g>\n     <g id=\"text_1\">\n      <!-- 0 -->\n      <g style=\"fill: #262626\" transform=\"translate(80.361219 441.472109)scale(0.121 -0.121)\">\n       <defs>\n        <path id=\"DejaVuSans-30\" d=\"M 2034 4250 \nQ 1547 4250 1301 3770 \nQ 1056 3291 1056 2328 \nQ 1056 1369 1301 889 \nQ 1547 409 2034 409 \nQ 2525 409 2770 889 \nQ 3016 1369 3016 2328 \nQ 3016 3291 2770 3770 \nQ 2525 4250 2034 4250 \nz\nM 2034 4750 \nQ 2819 4750 3233 4129 \nQ 3647 3509 3647 2328 \nQ 3647 1150 3233 529 \nQ 2819 -91 2034 -91 \nQ 1250 -91 836 529 \nQ 422 1150 422 2328 \nQ 422 3509 836 4129 \nQ 1250 4750 2034 4750 \nz\n\" transform=\"scale(0.015625)\"/>\n       </defs>\n       <use xlink:href=\"#DejaVuSans-30\"/>\n      </g>\n     </g>\n    </g>\n    <g id=\"xtick_2\">\n     <g id=\"line2d_2\">\n      <g>\n       <use xlink:href=\"#ma5232e30a8\" x=\"195.810531\" y=\"422.778\" style=\"fill: #262626; stroke: #262626; stroke-width: 1.25\"/>\n      </g>\n     </g>\n     <g id=\"text_2\">\n      <!-- 1 -->\n      <g style=\"fill: #262626\" transform=\"translate(191.961219 441.472109)scale(0.121 -0.121)\">\n       <defs>\n        <path id=\"DejaVuSans-31\" d=\"M 794 531 \nL 1825 531 \nL 1825 4091 \nL 703 3866 \nL 703 4441 \nL 1819 4666 \nL 2450 4666 \nL 2450 531 \nL 3481 531 \nL 3481 0 \nL 794 0 \nL 794 531 \nz\n\" transform=\"scale(0.015625)\"/>\n       </defs>\n       <use xlink:href=\"#DejaVuSans-31\"/>\n      </g>\n     </g>\n    </g>\n    <g id=\"xtick_3\">\n     <g id=\"line2d_3\">\n      <g>\n       <use xlink:href=\"#ma5232e30a8\" x=\"307.410531\" y=\"422.778\" style=\"fill: #262626; stroke: #262626; stroke-width: 1.25\"/>\n      </g>\n     </g>\n     <g id=\"text_3\">\n      <!-- 2 -->\n      <g style=\"fill: #262626\" transform=\"translate(303.561219 441.472109)scale(0.121 -0.121)\">\n       <defs>\n        <path id=\"DejaVuSans-32\" d=\"M 1228 531 \nL 3431 531 \nL 3431 0 \nL 469 0 \nL 469 531 \nQ 828 903 1448 1529 \nQ 2069 2156 2228 2338 \nQ 2531 2678 2651 2914 \nQ 2772 3150 2772 3378 \nQ 2772 3750 2511 3984 \nQ 2250 4219 1831 4219 \nQ 1534 4219 1204 4116 \nQ 875 4013 500 3803 \nL 500 4441 \nQ 881 4594 1212 4672 \nQ 1544 4750 1819 4750 \nQ 2544 4750 2975 4387 \nQ 3406 4025 3406 3419 \nQ 3406 3131 3298 2873 \nQ 3191 2616 2906 2266 \nQ 2828 2175 2409 1742 \nQ 1991 1309 1228 531 \nz\n\" transform=\"scale(0.015625)\"/>\n       </defs>\n       <use xlink:href=\"#DejaVuSans-32\"/>\n      </g>\n     </g>\n    </g>\n    <g id=\"xtick_4\">\n     <g id=\"line2d_4\">\n      <g>\n       <use xlink:href=\"#ma5232e30a8\" x=\"419.010531\" y=\"422.778\" style=\"fill: #262626; stroke: #262626; stroke-width: 1.25\"/>\n      </g>\n     </g>\n     <g id=\"text_4\">\n      <!-- 3 -->\n      <g style=\"fill: #262626\" transform=\"translate(415.161219 441.472109)scale(0.121 -0.121)\">\n       <defs>\n        <path id=\"DejaVuSans-33\" d=\"M 2597 2516 \nQ 3050 2419 3304 2112 \nQ 3559 1806 3559 1356 \nQ 3559 666 3084 287 \nQ 2609 -91 1734 -91 \nQ 1441 -91 1130 -33 \nQ 819 25 488 141 \nL 488 750 \nQ 750 597 1062 519 \nQ 1375 441 1716 441 \nQ 2309 441 2620 675 \nQ 2931 909 2931 1356 \nQ 2931 1769 2642 2001 \nQ 2353 2234 1838 2234 \nL 1294 2234 \nL 1294 2753 \nL 1863 2753 \nQ 2328 2753 2575 2939 \nQ 2822 3125 2822 3475 \nQ 2822 3834 2567 4026 \nQ 2313 4219 1838 4219 \nQ 1578 4219 1281 4162 \nQ 984 4106 628 3988 \nL 628 4550 \nQ 988 4650 1302 4700 \nQ 1616 4750 1894 4750 \nQ 2613 4750 3031 4423 \nQ 3450 4097 3450 3541 \nQ 3450 3153 3228 2886 \nQ 3006 2619 2597 2516 \nz\n\" transform=\"scale(0.015625)\"/>\n       </defs>\n       <use xlink:href=\"#DejaVuSans-33\"/>\n      </g>\n     </g>\n    </g>\n   </g>\n   <g id=\"matplotlib.axis_2\">\n    <g id=\"ytick_1\">\n     <g id=\"line2d_5\">\n      <defs>\n       <path id=\"m91dc9e9f92\" d=\"M 0 0 \nL -6 0 \n\" style=\"stroke: #262626; stroke-width: 1.25\"/>\n      </defs>\n      <g>\n       <use xlink:href=\"#m91dc9e9f92\" x=\"28.410531\" y=\"89.823\" style=\"fill: #262626; stroke: #262626; stroke-width: 1.25\"/>\n      </g>\n     </g>\n     <g id=\"text_5\">\n      <!-- 0 -->\n      <g style=\"fill: #262626\" transform=\"translate(16.394109 93.672312)rotate(-90)scale(0.121 -0.121)\">\n       <use xlink:href=\"#DejaVuSans-30\"/>\n      </g>\n     </g>\n    </g>\n    <g id=\"ytick_2\">\n     <g id=\"line2d_6\">\n      <g>\n       <use xlink:href=\"#m91dc9e9f92\" x=\"28.410531\" y=\"184.953\" style=\"fill: #262626; stroke: #262626; stroke-width: 1.25\"/>\n      </g>\n     </g>\n     <g id=\"text_6\">\n      <!-- 1 -->\n      <g style=\"fill: #262626\" transform=\"translate(16.394109 188.802312)rotate(-90)scale(0.121 -0.121)\">\n       <use xlink:href=\"#DejaVuSans-31\"/>\n      </g>\n     </g>\n    </g>\n    <g id=\"ytick_3\">\n     <g id=\"line2d_7\">\n      <g>\n       <use xlink:href=\"#m91dc9e9f92\" x=\"28.410531\" y=\"280.083\" style=\"fill: #262626; stroke: #262626; stroke-width: 1.25\"/>\n      </g>\n     </g>\n     <g id=\"text_7\">\n      <!-- 2 -->\n      <g style=\"fill: #262626\" transform=\"translate(16.394109 283.932312)rotate(-90)scale(0.121 -0.121)\">\n       <use xlink:href=\"#DejaVuSans-32\"/>\n      </g>\n     </g>\n    </g>\n    <g id=\"ytick_4\">\n     <g id=\"line2d_8\">\n      <g>\n       <use xlink:href=\"#m91dc9e9f92\" x=\"28.410531\" y=\"375.213\" style=\"fill: #262626; stroke: #262626; stroke-width: 1.25\"/>\n      </g>\n     </g>\n     <g id=\"text_8\">\n      <!-- 3 -->\n      <g style=\"fill: #262626\" transform=\"translate(16.394109 379.062312)rotate(-90)scale(0.121 -0.121)\">\n       <use xlink:href=\"#DejaVuSans-33\"/>\n      </g>\n     </g>\n    </g>\n   </g>\n   <g id=\"QuadMesh_1\">\n    <path d=\"M 28.410531 42.258 \nL 140.010531 42.258 \nL 140.010531 137.388 \nL 28.410531 137.388 \nL 28.410531 42.258 \n\" clip-path=\"url(#p99842a73bb)\" style=\"fill: #08306b\"/>\n    <path d=\"M 140.010531 42.258 \nL 251.610531 42.258 \nL 251.610531 137.388 \nL 140.010531 137.388 \nL 140.010531 42.258 \n\" clip-path=\"url(#p99842a73bb)\" style=\"fill: #a1cbe2\"/>\n    <path d=\"M 251.610531 42.258 \nL 363.210531 42.258 \nL 363.210531 137.388 \nL 251.610531 137.388 \nL 251.610531 42.258 \n\" clip-path=\"url(#p99842a73bb)\" style=\"fill: #e5eff9\"/>\n    <path d=\"M 363.210531 42.258 \nL 474.810531 42.258 \nL 474.810531 137.388 \nL 363.210531 137.388 \nL 363.210531 42.258 \n\" clip-path=\"url(#p99842a73bb)\" style=\"fill: #f7fbff\"/>\n    <path d=\"M 28.410531 137.388 \nL 140.010531 137.388 \nL 140.010531 232.518 \nL 28.410531 232.518 \nL 28.410531 137.388 \n\" clip-path=\"url(#p99842a73bb)\" style=\"fill: #a1cbe2\"/>\n    <path d=\"M 140.010531 137.388 \nL 251.610531 137.388 \nL 251.610531 232.518 \nL 140.010531 232.518 \nL 140.010531 137.388 \n\" clip-path=\"url(#p99842a73bb)\" style=\"fill: #d3e4f3\"/>\n    <path d=\"M 251.610531 137.388 \nL 363.210531 137.388 \nL 363.210531 232.518 \nL 251.610531 232.518 \nL 251.610531 137.388 \n\" clip-path=\"url(#p99842a73bb)\" style=\"fill: #e5eff9\"/>\n    <path d=\"M 363.210531 137.388 \nL 474.810531 137.388 \nL 474.810531 232.518 \nL 363.210531 232.518 \nL 363.210531 137.388 \n\" clip-path=\"url(#p99842a73bb)\" style=\"fill: #e5eff9\"/>\n    <path d=\"M 28.410531 232.518 \nL 140.010531 232.518 \nL 140.010531 327.648 \nL 28.410531 327.648 \nL 28.410531 232.518 \n\" clip-path=\"url(#p99842a73bb)\" style=\"fill: #e5eff9\"/>\n    <path d=\"M 140.010531 232.518 \nL 251.610531 232.518 \nL 251.610531 327.648 \nL 140.010531 327.648 \nL 140.010531 232.518 \n\" clip-path=\"url(#p99842a73bb)\" style=\"fill: #e5eff9\"/>\n    <path d=\"M 251.610531 232.518 \nL 363.210531 232.518 \nL 363.210531 327.648 \nL 251.610531 327.648 \nL 251.610531 232.518 \n\" clip-path=\"url(#p99842a73bb)\" style=\"fill: #d3e4f3\"/>\n    <path d=\"M 363.210531 232.518 \nL 474.810531 232.518 \nL 474.810531 327.648 \nL 363.210531 327.648 \nL 363.210531 232.518 \n\" clip-path=\"url(#p99842a73bb)\" style=\"fill: #a1cbe2\"/>\n    <path d=\"M 28.410531 327.648 \nL 140.010531 327.648 \nL 140.010531 422.778 \nL 28.410531 422.778 \nL 28.410531 327.648 \n\" clip-path=\"url(#p99842a73bb)\" style=\"fill: #f7fbff\"/>\n    <path d=\"M 140.010531 327.648 \nL 251.610531 327.648 \nL 251.610531 422.778 \nL 140.010531 422.778 \nL 140.010531 327.648 \n\" clip-path=\"url(#p99842a73bb)\" style=\"fill: #e5eff9\"/>\n    <path d=\"M 251.610531 327.648 \nL 363.210531 327.648 \nL 363.210531 422.778 \nL 251.610531 422.778 \nL 251.610531 327.648 \n\" clip-path=\"url(#p99842a73bb)\" style=\"fill: #a1cbe2\"/>\n    <path d=\"M 363.210531 327.648 \nL 474.810531 327.648 \nL 474.810531 422.778 \nL 363.210531 422.778 \nL 363.210531 327.648 \n\" clip-path=\"url(#p99842a73bb)\" style=\"fill: #08306b\"/>\n   </g>\n   <g id=\"text_9\">\n    <!-- 0 -->\n    <g style=\"fill: #ffffff\" transform=\"translate(80.011281 93.465375)scale(0.132 -0.132)\">\n     <use xlink:href=\"#DejaVuSans-30\"/>\n    </g>\n   </g>\n   <g id=\"text_10\">\n    <!-- -14 -->\n    <g style=\"fill: #262626\" transform=\"translate(185.030875 93.465375)scale(0.132 -0.132)\">\n     <defs>\n      <path id=\"DejaVuSans-2d\" d=\"M 313 2009 \nL 1997 2009 \nL 1997 1497 \nL 313 1497 \nL 313 2009 \nz\n\" transform=\"scale(0.015625)\"/>\n      <path id=\"DejaVuSans-34\" d=\"M 2419 4116 \nL 825 1625 \nL 2419 1625 \nL 2419 4116 \nz\nM 2253 4666 \nL 3047 4666 \nL 3047 1625 \nL 3713 1625 \nL 3713 1100 \nL 3047 1100 \nL 3047 0 \nL 2419 0 \nL 2419 1100 \nL 313 1100 \nL 313 1709 \nL 2253 4666 \nz\n\" transform=\"scale(0.015625)\"/>\n     </defs>\n     <use xlink:href=\"#DejaVuSans-2d\"/>\n     <use xlink:href=\"#DejaVuSans-31\" x=\"36.083984\"/>\n     <use xlink:href=\"#DejaVuSans-34\" x=\"99.707031\"/>\n    </g>\n   </g>\n   <g id=\"text_11\">\n    <!-- -20 -->\n    <g style=\"fill: #262626\" transform=\"translate(296.630875 93.465375)scale(0.132 -0.132)\">\n     <use xlink:href=\"#DejaVuSans-2d\"/>\n     <use xlink:href=\"#DejaVuSans-32\" x=\"36.083984\"/>\n     <use xlink:href=\"#DejaVuSans-30\" x=\"99.707031\"/>\n    </g>\n   </g>\n   <g id=\"text_12\">\n    <!-- -22 -->\n    <g style=\"fill: #262626\" transform=\"translate(408.230875 93.465375)scale(0.132 -0.132)\">\n     <use xlink:href=\"#DejaVuSans-2d\"/>\n     <use xlink:href=\"#DejaVuSans-32\" x=\"36.083984\"/>\n     <use xlink:href=\"#DejaVuSans-32\" x=\"99.707031\"/>\n    </g>\n   </g>\n   <g id=\"text_13\">\n    <!-- -14 -->\n    <g style=\"fill: #262626\" transform=\"translate(73.430875 188.595375)scale(0.132 -0.132)\">\n     <use xlink:href=\"#DejaVuSans-2d\"/>\n     <use xlink:href=\"#DejaVuSans-31\" x=\"36.083984\"/>\n     <use xlink:href=\"#DejaVuSans-34\" x=\"99.707031\"/>\n    </g>\n   </g>\n   <g id=\"text_14\">\n    <!-- -18 -->\n    <g style=\"fill: #262626\" transform=\"translate(185.030875 188.595375)scale(0.132 -0.132)\">\n     <defs>\n      <path id=\"DejaVuSans-38\" d=\"M 2034 2216 \nQ 1584 2216 1326 1975 \nQ 1069 1734 1069 1313 \nQ 1069 891 1326 650 \nQ 1584 409 2034 409 \nQ 2484 409 2743 651 \nQ 3003 894 3003 1313 \nQ 3003 1734 2745 1975 \nQ 2488 2216 2034 2216 \nz\nM 1403 2484 \nQ 997 2584 770 2862 \nQ 544 3141 544 3541 \nQ 544 4100 942 4425 \nQ 1341 4750 2034 4750 \nQ 2731 4750 3128 4425 \nQ 3525 4100 3525 3541 \nQ 3525 3141 3298 2862 \nQ 3072 2584 2669 2484 \nQ 3125 2378 3379 2068 \nQ 3634 1759 3634 1313 \nQ 3634 634 3220 271 \nQ 2806 -91 2034 -91 \nQ 1263 -91 848 271 \nQ 434 634 434 1313 \nQ 434 1759 690 2068 \nQ 947 2378 1403 2484 \nz\nM 1172 3481 \nQ 1172 3119 1398 2916 \nQ 1625 2713 2034 2713 \nQ 2441 2713 2670 2916 \nQ 2900 3119 2900 3481 \nQ 2900 3844 2670 4047 \nQ 2441 4250 2034 4250 \nQ 1625 4250 1398 4047 \nQ 1172 3844 1172 3481 \nz\n\" transform=\"scale(0.015625)\"/>\n     </defs>\n     <use xlink:href=\"#DejaVuSans-2d\"/>\n     <use xlink:href=\"#DejaVuSans-31\" x=\"36.083984\"/>\n     <use xlink:href=\"#DejaVuSans-38\" x=\"99.707031\"/>\n    </g>\n   </g>\n   <g id=\"text_15\">\n    <!-- -20 -->\n    <g style=\"fill: #262626\" transform=\"translate(296.630875 188.595375)scale(0.132 -0.132)\">\n     <use xlink:href=\"#DejaVuSans-2d\"/>\n     <use xlink:href=\"#DejaVuSans-32\" x=\"36.083984\"/>\n     <use xlink:href=\"#DejaVuSans-30\" x=\"99.707031\"/>\n    </g>\n   </g>\n   <g id=\"text_16\">\n    <!-- -20 -->\n    <g style=\"fill: #262626\" transform=\"translate(408.230875 188.595375)scale(0.132 -0.132)\">\n     <use xlink:href=\"#DejaVuSans-2d\"/>\n     <use xlink:href=\"#DejaVuSans-32\" x=\"36.083984\"/>\n     <use xlink:href=\"#DejaVuSans-30\" x=\"99.707031\"/>\n    </g>\n   </g>\n   <g id=\"text_17\">\n    <!-- -20 -->\n    <g style=\"fill: #262626\" transform=\"translate(73.430875 283.725375)scale(0.132 -0.132)\">\n     <use xlink:href=\"#DejaVuSans-2d\"/>\n     <use xlink:href=\"#DejaVuSans-32\" x=\"36.083984\"/>\n     <use xlink:href=\"#DejaVuSans-30\" x=\"99.707031\"/>\n    </g>\n   </g>\n   <g id=\"text_18\">\n    <!-- -20 -->\n    <g style=\"fill: #262626\" transform=\"translate(185.030875 283.725375)scale(0.132 -0.132)\">\n     <use xlink:href=\"#DejaVuSans-2d\"/>\n     <use xlink:href=\"#DejaVuSans-32\" x=\"36.083984\"/>\n     <use xlink:href=\"#DejaVuSans-30\" x=\"99.707031\"/>\n    </g>\n   </g>\n   <g id=\"text_19\">\n    <!-- -18 -->\n    <g style=\"fill: #262626\" transform=\"translate(296.630875 283.725375)scale(0.132 -0.132)\">\n     <use xlink:href=\"#DejaVuSans-2d\"/>\n     <use xlink:href=\"#DejaVuSans-31\" x=\"36.083984\"/>\n     <use xlink:href=\"#DejaVuSans-38\" x=\"99.707031\"/>\n    </g>\n   </g>\n   <g id=\"text_20\">\n    <!-- -14 -->\n    <g style=\"fill: #262626\" transform=\"translate(408.230875 283.725375)scale(0.132 -0.132)\">\n     <use xlink:href=\"#DejaVuSans-2d\"/>\n     <use xlink:href=\"#DejaVuSans-31\" x=\"36.083984\"/>\n     <use xlink:href=\"#DejaVuSans-34\" x=\"99.707031\"/>\n    </g>\n   </g>\n   <g id=\"text_21\">\n    <!-- -22 -->\n    <g style=\"fill: #262626\" transform=\"translate(73.430875 378.855375)scale(0.132 -0.132)\">\n     <use xlink:href=\"#DejaVuSans-2d\"/>\n     <use xlink:href=\"#DejaVuSans-32\" x=\"36.083984\"/>\n     <use xlink:href=\"#DejaVuSans-32\" x=\"99.707031\"/>\n    </g>\n   </g>\n   <g id=\"text_22\">\n    <!-- -20 -->\n    <g style=\"fill: #262626\" transform=\"translate(185.030875 378.855375)scale(0.132 -0.132)\">\n     <use xlink:href=\"#DejaVuSans-2d\"/>\n     <use xlink:href=\"#DejaVuSans-32\" x=\"36.083984\"/>\n     <use xlink:href=\"#DejaVuSans-30\" x=\"99.707031\"/>\n    </g>\n   </g>\n   <g id=\"text_23\">\n    <!-- -14 -->\n    <g style=\"fill: #262626\" transform=\"translate(296.630875 378.855375)scale(0.132 -0.132)\">\n     <use xlink:href=\"#DejaVuSans-2d\"/>\n     <use xlink:href=\"#DejaVuSans-31\" x=\"36.083984\"/>\n     <use xlink:href=\"#DejaVuSans-34\" x=\"99.707031\"/>\n    </g>\n   </g>\n   <g id=\"text_24\">\n    <!-- 0 -->\n    <g style=\"fill: #ffffff\" transform=\"translate(414.811281 378.855375)scale(0.132 -0.132)\">\n     <use xlink:href=\"#DejaVuSans-30\"/>\n    </g>\n   </g>\n   <g id=\"text_25\">\n    <!-- $v_{k}$ for the random policy -->\n    <g style=\"fill: #262626\" transform=\"translate(171.486531 17.232)scale(0.132 -0.132)\">\n     <defs>\n      <path id=\"DejaVuSans-Oblique-76\" d=\"M 459 3500 \nL 1069 3500 \nL 1581 525 \nL 3256 3500 \nL 3866 3500 \nL 1875 0 \nL 1100 0 \nL 459 3500 \nz\n\" transform=\"scale(0.015625)\"/>\n      <path id=\"DejaVuSans-Oblique-6b\" d=\"M 1172 4863 \nL 1747 4863 \nL 1197 2028 \nL 3169 3500 \nL 3916 3500 \nL 1716 1825 \nL 3322 0 \nL 2625 0 \nL 1131 1709 \nL 800 0 \nL 225 0 \nL 1172 4863 \nz\n\" transform=\"scale(0.015625)\"/>\n      <path id=\"DejaVuSans-20\" transform=\"scale(0.015625)\"/>\n      <path id=\"DejaVuSans-66\" d=\"M 2375 4863 \nL 2375 4384 \nL 1825 4384 \nQ 1516 4384 1395 4259 \nQ 1275 4134 1275 3809 \nL 1275 3500 \nL 2222 3500 \nL 2222 3053 \nL 1275 3053 \nL 1275 0 \nL 697 0 \nL 697 3053 \nL 147 3053 \nL 147 3500 \nL 697 3500 \nL 697 3744 \nQ 697 4328 969 4595 \nQ 1241 4863 1831 4863 \nL 2375 4863 \nz\n\" transform=\"scale(0.015625)\"/>\n      <path id=\"DejaVuSans-6f\" d=\"M 1959 3097 \nQ 1497 3097 1228 2736 \nQ 959 2375 959 1747 \nQ 959 1119 1226 758 \nQ 1494 397 1959 397 \nQ 2419 397 2687 759 \nQ 2956 1122 2956 1747 \nQ 2956 2369 2687 2733 \nQ 2419 3097 1959 3097 \nz\nM 1959 3584 \nQ 2709 3584 3137 3096 \nQ 3566 2609 3566 1747 \nQ 3566 888 3137 398 \nQ 2709 -91 1959 -91 \nQ 1206 -91 779 398 \nQ 353 888 353 1747 \nQ 353 2609 779 3096 \nQ 1206 3584 1959 3584 \nz\n\" transform=\"scale(0.015625)\"/>\n      <path id=\"DejaVuSans-72\" d=\"M 2631 2963 \nQ 2534 3019 2420 3045 \nQ 2306 3072 2169 3072 \nQ 1681 3072 1420 2755 \nQ 1159 2438 1159 1844 \nL 1159 0 \nL 581 0 \nL 581 3500 \nL 1159 3500 \nL 1159 2956 \nQ 1341 3275 1631 3429 \nQ 1922 3584 2338 3584 \nQ 2397 3584 2469 3576 \nQ 2541 3569 2628 3553 \nL 2631 2963 \nz\n\" transform=\"scale(0.015625)\"/>\n      <path id=\"DejaVuSans-74\" d=\"M 1172 4494 \nL 1172 3500 \nL 2356 3500 \nL 2356 3053 \nL 1172 3053 \nL 1172 1153 \nQ 1172 725 1289 603 \nQ 1406 481 1766 481 \nL 2356 481 \nL 2356 0 \nL 1766 0 \nQ 1100 0 847 248 \nQ 594 497 594 1153 \nL 594 3053 \nL 172 3053 \nL 172 3500 \nL 594 3500 \nL 594 4494 \nL 1172 4494 \nz\n\" transform=\"scale(0.015625)\"/>\n      <path id=\"DejaVuSans-68\" d=\"M 3513 2113 \nL 3513 0 \nL 2938 0 \nL 2938 2094 \nQ 2938 2591 2744 2837 \nQ 2550 3084 2163 3084 \nQ 1697 3084 1428 2787 \nQ 1159 2491 1159 1978 \nL 1159 0 \nL 581 0 \nL 581 4863 \nL 1159 4863 \nL 1159 2956 \nQ 1366 3272 1645 3428 \nQ 1925 3584 2291 3584 \nQ 2894 3584 3203 3211 \nQ 3513 2838 3513 2113 \nz\n\" transform=\"scale(0.015625)\"/>\n      <path id=\"DejaVuSans-65\" d=\"M 3597 1894 \nL 3597 1613 \nL 953 1613 \nQ 991 1019 1311 708 \nQ 1631 397 2203 397 \nQ 2534 397 2845 478 \nQ 3156 559 3463 722 \nL 3463 178 \nQ 3153 47 2828 -22 \nQ 2503 -91 2169 -91 \nQ 1331 -91 842 396 \nQ 353 884 353 1716 \nQ 353 2575 817 3079 \nQ 1281 3584 2069 3584 \nQ 2775 3584 3186 3129 \nQ 3597 2675 3597 1894 \nz\nM 3022 2063 \nQ 3016 2534 2758 2815 \nQ 2500 3097 2075 3097 \nQ 1594 3097 1305 2825 \nQ 1016 2553 972 2059 \nL 3022 2063 \nz\n\" transform=\"scale(0.015625)\"/>\n      <path id=\"DejaVuSans-61\" d=\"M 2194 1759 \nQ 1497 1759 1228 1600 \nQ 959 1441 959 1056 \nQ 959 750 1161 570 \nQ 1363 391 1709 391 \nQ 2188 391 2477 730 \nQ 2766 1069 2766 1631 \nL 2766 1759 \nL 2194 1759 \nz\nM 3341 1997 \nL 3341 0 \nL 2766 0 \nL 2766 531 \nQ 2569 213 2275 61 \nQ 1981 -91 1556 -91 \nQ 1019 -91 701 211 \nQ 384 513 384 1019 \nQ 384 1609 779 1909 \nQ 1175 2209 1959 2209 \nL 2766 2209 \nL 2766 2266 \nQ 2766 2663 2505 2880 \nQ 2244 3097 1772 3097 \nQ 1472 3097 1187 3025 \nQ 903 2953 641 2809 \nL 641 3341 \nQ 956 3463 1253 3523 \nQ 1550 3584 1831 3584 \nQ 2591 3584 2966 3190 \nQ 3341 2797 3341 1997 \nz\n\" transform=\"scale(0.015625)\"/>\n      <path id=\"DejaVuSans-6e\" d=\"M 3513 2113 \nL 3513 0 \nL 2938 0 \nL 2938 2094 \nQ 2938 2591 2744 2837 \nQ 2550 3084 2163 3084 \nQ 1697 3084 1428 2787 \nQ 1159 2491 1159 1978 \nL 1159 0 \nL 581 0 \nL 581 3500 \nL 1159 3500 \nL 1159 2956 \nQ 1366 3272 1645 3428 \nQ 1925 3584 2291 3584 \nQ 2894 3584 3203 3211 \nQ 3513 2838 3513 2113 \nz\n\" transform=\"scale(0.015625)\"/>\n      <path id=\"DejaVuSans-64\" d=\"M 2906 2969 \nL 2906 4863 \nL 3481 4863 \nL 3481 0 \nL 2906 0 \nL 2906 525 \nQ 2725 213 2448 61 \nQ 2172 -91 1784 -91 \nQ 1150 -91 751 415 \nQ 353 922 353 1747 \nQ 353 2572 751 3078 \nQ 1150 3584 1784 3584 \nQ 2172 3584 2448 3432 \nQ 2725 3281 2906 2969 \nz\nM 947 1747 \nQ 947 1113 1208 752 \nQ 1469 391 1925 391 \nQ 2381 391 2643 752 \nQ 2906 1113 2906 1747 \nQ 2906 2381 2643 2742 \nQ 2381 3103 1925 3103 \nQ 1469 3103 1208 2742 \nQ 947 2381 947 1747 \nz\n\" transform=\"scale(0.015625)\"/>\n      <path id=\"DejaVuSans-6d\" d=\"M 3328 2828 \nQ 3544 3216 3844 3400 \nQ 4144 3584 4550 3584 \nQ 5097 3584 5394 3201 \nQ 5691 2819 5691 2113 \nL 5691 0 \nL 5113 0 \nL 5113 2094 \nQ 5113 2597 4934 2840 \nQ 4756 3084 4391 3084 \nQ 3944 3084 3684 2787 \nQ 3425 2491 3425 1978 \nL 3425 0 \nL 2847 0 \nL 2847 2094 \nQ 2847 2600 2669 2842 \nQ 2491 3084 2119 3084 \nQ 1678 3084 1418 2786 \nQ 1159 2488 1159 1978 \nL 1159 0 \nL 581 0 \nL 581 3500 \nL 1159 3500 \nL 1159 2956 \nQ 1356 3278 1631 3431 \nQ 1906 3584 2284 3584 \nQ 2666 3584 2933 3390 \nQ 3200 3197 3328 2828 \nz\n\" transform=\"scale(0.015625)\"/>\n      <path id=\"DejaVuSans-70\" d=\"M 1159 525 \nL 1159 -1331 \nL 581 -1331 \nL 581 3500 \nL 1159 3500 \nL 1159 2969 \nQ 1341 3281 1617 3432 \nQ 1894 3584 2278 3584 \nQ 2916 3584 3314 3078 \nQ 3713 2572 3713 1747 \nQ 3713 922 3314 415 \nQ 2916 -91 2278 -91 \nQ 1894 -91 1617 61 \nQ 1341 213 1159 525 \nz\nM 3116 1747 \nQ 3116 2381 2855 2742 \nQ 2594 3103 2138 3103 \nQ 1681 3103 1420 2742 \nQ 1159 2381 1159 1747 \nQ 1159 1113 1420 752 \nQ 1681 391 2138 391 \nQ 2594 391 2855 752 \nQ 3116 1113 3116 1747 \nz\n\" transform=\"scale(0.015625)\"/>\n      <path id=\"DejaVuSans-6c\" d=\"M 603 4863 \nL 1178 4863 \nL 1178 0 \nL 603 0 \nL 603 4863 \nz\n\" transform=\"scale(0.015625)\"/>\n      <path id=\"DejaVuSans-69\" d=\"M 603 3500 \nL 1178 3500 \nL 1178 0 \nL 603 0 \nL 603 3500 \nz\nM 603 4863 \nL 1178 4863 \nL 1178 4134 \nL 603 4134 \nL 603 4863 \nz\n\" transform=\"scale(0.015625)\"/>\n      <path id=\"DejaVuSans-63\" d=\"M 3122 3366 \nL 3122 2828 \nQ 2878 2963 2633 3030 \nQ 2388 3097 2138 3097 \nQ 1578 3097 1268 2742 \nQ 959 2388 959 1747 \nQ 959 1106 1268 751 \nQ 1578 397 2138 397 \nQ 2388 397 2633 464 \nQ 2878 531 3122 666 \nL 3122 134 \nQ 2881 22 2623 -34 \nQ 2366 -91 2075 -91 \nQ 1284 -91 818 406 \nQ 353 903 353 1747 \nQ 353 2603 823 3093 \nQ 1294 3584 2113 3584 \nQ 2378 3584 2631 3529 \nQ 2884 3475 3122 3366 \nz\n\" transform=\"scale(0.015625)\"/>\n      <path id=\"DejaVuSans-79\" d=\"M 2059 -325 \nQ 1816 -950 1584 -1140 \nQ 1353 -1331 966 -1331 \nL 506 -1331 \nL 506 -850 \nL 844 -850 \nQ 1081 -850 1212 -737 \nQ 1344 -625 1503 -206 \nL 1606 56 \nL 191 3500 \nL 800 3500 \nL 1894 763 \nL 2988 3500 \nL 3597 3500 \nL 2059 -325 \nz\n\" transform=\"scale(0.015625)\"/>\n     </defs>\n     <use xlink:href=\"#DejaVuSans-Oblique-76\" transform=\"translate(0 0.015625)\"/>\n     <use xlink:href=\"#DejaVuSans-Oblique-6b\" transform=\"translate(59.179688 -16.390625)scale(0.7)\"/>\n     <use xlink:href=\"#DejaVuSans-20\" transform=\"translate(102.451172 0.015625)\"/>\n     <use xlink:href=\"#DejaVuSans-66\" transform=\"translate(134.238281 0.015625)\"/>\n     <use xlink:href=\"#DejaVuSans-6f\" transform=\"translate(169.443359 0.015625)\"/>\n     <use xlink:href=\"#DejaVuSans-72\" transform=\"translate(230.625 0.015625)\"/>\n     <use xlink:href=\"#DejaVuSans-20\" transform=\"translate(271.738281 0.015625)\"/>\n     <use xlink:href=\"#DejaVuSans-74\" transform=\"translate(303.525391 0.015625)\"/>\n     <use xlink:href=\"#DejaVuSans-68\" transform=\"translate(342.734375 0.015625)\"/>\n     <use xlink:href=\"#DejaVuSans-65\" transform=\"translate(406.113281 0.015625)\"/>\n     <use xlink:href=\"#DejaVuSans-20\" transform=\"translate(467.636719 0.015625)\"/>\n     <use xlink:href=\"#DejaVuSans-72\" transform=\"translate(499.423828 0.015625)\"/>\n     <use xlink:href=\"#DejaVuSans-61\" transform=\"translate(540.537109 0.015625)\"/>\n     <use xlink:href=\"#DejaVuSans-6e\" transform=\"translate(601.816406 0.015625)\"/>\n     <use xlink:href=\"#DejaVuSans-64\" transform=\"translate(665.195312 0.015625)\"/>\n     <use xlink:href=\"#DejaVuSans-6f\" transform=\"translate(728.671875 0.015625)\"/>\n     <use xlink:href=\"#DejaVuSans-6d\" transform=\"translate(789.853516 0.015625)\"/>\n     <use xlink:href=\"#DejaVuSans-20\" transform=\"translate(887.265625 0.015625)\"/>\n     <use xlink:href=\"#DejaVuSans-70\" transform=\"translate(919.052734 0.015625)\"/>\n     <use xlink:href=\"#DejaVuSans-6f\" transform=\"translate(982.529297 0.015625)\"/>\n     <use xlink:href=\"#DejaVuSans-6c\" transform=\"translate(1043.710938 0.015625)\"/>\n     <use xlink:href=\"#DejaVuSans-69\" transform=\"translate(1071.494141 0.015625)\"/>\n     <use xlink:href=\"#DejaVuSans-63\" transform=\"translate(1099.277344 0.015625)\"/>\n     <use xlink:href=\"#DejaVuSans-79\" transform=\"translate(1154.257812 0.015625)\"/>\n    </g>\n   </g>\n  </g>\n </g>\n <defs>\n  <clipPath id=\"p99842a73bb\">\n   <rect x=\"28.410531\" y=\"42.258\" width=\"446.4\" height=\"380.52\"/>\n  </clipPath>\n </defs>\n</svg>\n"
          },
          "metadata": {
            "needs_background": "light"
          }
        }
      ]
    },
    {
      "cell_type": "markdown",
      "source": [
        "### 4.2 [ ... ]\n",
        "\n",
        "---"
      ],
      "metadata": {
        "id": "Hdd980D09oS2"
      }
    },
    {
      "cell_type": "code",
      "source": [],
      "metadata": {
        "id": "osHzCOYZ9bMM"
      },
      "execution_count": null,
      "outputs": []
    },
    {
      "cell_type": "code",
      "source": [],
      "metadata": {
        "id": "0QJJenPL9bOh"
      },
      "execution_count": null,
      "outputs": []
    },
    {
      "cell_type": "code",
      "source": [],
      "metadata": {
        "id": "3WZsghH1F1Xj"
      },
      "execution_count": null,
      "outputs": []
    },
    {
      "cell_type": "markdown",
      "source": [
        "### 3.3 [ ... ]"
      ],
      "metadata": {
        "id": "NcJiEmPSF3IB"
      }
    },
    {
      "cell_type": "code",
      "source": [],
      "metadata": {
        "id": "1x8O3Y7LF4-5"
      },
      "execution_count": null,
      "outputs": []
    },
    {
      "cell_type": "code",
      "source": [],
      "metadata": {
        "id": "M3VCIlY_F5nI"
      },
      "execution_count": null,
      "outputs": []
    }
  ]
}