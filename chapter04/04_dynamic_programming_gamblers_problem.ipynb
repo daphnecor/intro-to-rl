{
  "cells": [
    {
      "cell_type": "code",
      "execution_count": 4,
      "metadata": {
        "id": "lgAS2T-oputf"
      },
      "outputs": [
        {
          "name": "stdout",
          "output_type": "stream",
          "text": [
            "The autoreload extension is already loaded. To reload it, use:\n",
            "  %reload_ext autoreload\n"
          ]
        }
      ],
      "source": [
        "%load_ext autoreload\n",
        "%autoreload 2\n",
        "\n",
        "import numpy as np\n",
        "import seaborn as sns\n",
        "import matplotlib\n",
        "import matplotlib.pyplot as plt\n",
        "from scipy.stats import poisson\n",
        "from typing import Tuple\n",
        "\n",
        "sns.set('notebook', font_scale=1.1, rc={'figure.figsize': (6, 6)})\n",
        "sns.set_style('ticks', rc={'figure.facecolor': 'none', 'axes.facecolor': 'none'})\n",
        "%config InlineBackend.figure_format = 'svg'\n",
        "matplotlib.rcParams['figure.facecolor'] = 'white'"
      ]
    },
    {
      "cell_type": "code",
      "execution_count": null,
      "metadata": {
        "id": "tEnpGGk13yd7"
      },
      "outputs": [],
      "source": [
        "# Initialize\n",
        "PROB_HEADS = 0.25\n",
        "GOAL = 100\n",
        "THETA = 1e-2\n",
        "posib_states = np.arange(0, 100, 1)\n",
        "posib_rewards = np.array([0, 1])\n",
        "\n",
        "values = np.zeros_like(posib_states)"
      ]
    },
    {
      "cell_type": "code",
      "execution_count": null,
      "metadata": {
        "colab": {
          "base_uri": "https://localhost:8080/",
          "height": 1000
        },
        "id": "qwiXjQToDvRp",
        "outputId": "c1401654-9c74-47fc-a68d-ea296a9e8064"
      },
      "outputs": [],
      "source": [
        "for state in posib_states:\n",
        "\n",
        "    delta = 0\n",
        "\n",
        "    # Update set of possible actions to choose from\n",
        "    actions_set = np.arange(1, min(state, 100-state), 1) \n",
        "    state_value = 0\n",
        "    for action in actions_set:\n",
        "        action_value = []\n",
        "\n",
        "        print(f'State: {state} | action: {action}')\n",
        "\n",
        "        for state_prime in posib_states:\n",
        "            for reward in posib_rewards:\n",
        "                action_value.append(\n",
        "                    PROB_HEADS    \n",
        "                ) \n",
        "\n",
        "\n",
        "    \n",
        "    state_value += max_action_value\n",
        "        \n",
        "        \n",
        "    #next_state, reward, gambler_wins, terminate = step(state, action, gambler_wins)\n",
        "\n",
        "\n",
        "    if state == 20:\n",
        "        break\n",
        "    "
      ]
    },
    {
      "cell_type": "code",
      "execution_count": null,
      "metadata": {
        "id": "qdkAFEwx3ylP"
      },
      "outputs": [],
      "source": [
        "def step(state: int, action: int, gambler_wins: int) -> Tuple[int, int, int, bool]:\n",
        "\n",
        "    terminate = False\n",
        "\n",
        "    # Flip a coin\n",
        "    coin_outcome = np.random.binomial(n=1, p=PROB_HEADS)\n",
        "\n",
        "    if coin_outcome == 0: # If heads\n",
        "        # The gambler wins as many dollars as he has staked\n",
        "        gambler_wins += action \n",
        "\n",
        "    # Update capital with money that was put to stake\n",
        "    next_state = state - action\n",
        "\n",
        "    if gambler_wins >= GOAL:\n",
        "        reward += 1\n",
        "        terminate = True\n",
        "    if next_state <= 0:\n",
        "        reward = 0\n",
        "        terminate = True\n",
        "    else:\n",
        "        reward = 0\n",
        "\n",
        "    return next_state, reward, gambler_wins, terminate"
      ]
    },
    {
      "cell_type": "code",
      "execution_count": null,
      "metadata": {
        "id": "aO3e1xGxDtwy"
      },
      "outputs": [],
      "source": []
    }
  ],
  "metadata": {
    "colab": {
      "authorship_tag": "ABX9TyPOlrdUZkN8GlJ0l5aPmYBB",
      "include_colab_link": true,
      "provenance": []
    },
    "kernelspec": {
      "display_name": "rl",
      "language": "python",
      "name": "python3"
    },
    "language_info": {
      "codemirror_mode": {
        "name": "ipython",
        "version": 3
      },
      "file_extension": ".py",
      "mimetype": "text/x-python",
      "name": "python",
      "nbconvert_exporter": "python",
      "pygments_lexer": "ipython3",
      "version": "3.10.7"
    },
    "vscode": {
      "interpreter": {
        "hash": "d34d5eef7507bb13b430f5217be103884edd667ef694ed18d3f7943da64c9dae"
      }
    }
  },
  "nbformat": 4,
  "nbformat_minor": 0
}
