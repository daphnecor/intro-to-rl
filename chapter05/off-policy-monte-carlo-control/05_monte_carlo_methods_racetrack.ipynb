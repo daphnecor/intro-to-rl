{
 "cells": [
  {
   "cell_type": "code",
   "execution_count": 2,
   "metadata": {},
   "outputs": [],
   "source": [
    "import gym\n",
    "import numpy as np\n",
    "from pprint import pprint\n",
    "\n",
    "import seaborn as sns\n",
    "import pandas as pd\n",
    "import matplotlib\n",
    "import matplotlib.pyplot as plt\n",
    "from matplotlib import cm\n",
    "\n",
    "sns.set('notebook', font_scale=1.1, rc={ 'figure.figsize': (6, 3) })\n",
    "sns.set_style('ticks', rc={ 'figure.facecolor': 'none', 'axes.facecolor': 'none'})\n",
    "%config InlineBackend.figure_format = 'svg'\n",
    "matplotlib.rcParams['figure.facecolor'] = 'white'"
   ]
  },
  {
   "attachments": {},
   "cell_type": "markdown",
   "metadata": {},
   "source": [
    "### 5.7 Off-policy Monte Carlo Control\n",
    "\n",
    "> We implement exercise 5.12: **Racetrack** (page 111 in Sutton & Barto)\n",
    "\n",
    "---\n",
    "\n",
    "Consider driving a race car around a turn like those shown in Figure 5.5. You want to go as fast as possible, but not so fast as to run off the track.\n",
    "   - In our simplified racetrack, the car is at one of a discrete set of grid positions, the cells in the diagram. \n",
    "   - The velocity is also discrete, a number of grid cells moved horizontally and vertically per time step. \n",
    "   - The actions are increments to the velocity components. Each may be changed by +1, -1, or 0 in each step, for a total of nine (3 x 3) actions. \n",
    "   - Both velocity components are restricted to be nonnegative and less than 5, and they cannot both be zero except at the starting line. Each episode begins in one of the randomly selected start states with both velocity components zero and ends when the car crosses the finish line. \n",
    "   - The rewards are -1 for each step until the car crosses the finish line. If the car hits the track boundary, it is moved back to a random position on the starting line, both velocity components are reduced to zero, and the episode continues. \n",
    "   - Before updating the car’s location at each time step, check to see if the projected path of the car intersects the track boundary. If it intersects the finish line, the episode ends; if it intersects anywhere else, the car is considered to have hit the track boundary and is sent back to the starting line. \n",
    "   - To make the task more challenging, with probability 0.1 at each time step the velocity increments are both zero, independently of the intended increments. Apply a Monte Carlo control method to this task to compute the optimal policy from each starting state. Exhibit several trajectories following the optimal policy (but turn the noise off for these trajectories)."
   ]
  },
  {
   "attachments": {},
   "cell_type": "markdown",
   "metadata": {},
   "source": [
    "**Environment**\n",
    "- An irregularly shaped grid (how to create this?, what should be the size?)\n",
    "\n",
    "**State**\n",
    "- A tuple, $\\mathbf{x} = (x, y)$ , indicating the 2D position of the car\n",
    "  \n",
    "**Actions**\n",
    "-  Increments to the velocity of the car, which is the number of changed horizontal and vertical cells  $\\mathbf{a} = (a_x, a_y)$\n",
    "   -  possible actions: $\\mathcal{A} = \\{ (0, 0), (0, 1), (0, -1), (1, 0), (-1, 0), (1, 1), (-1, -1), (-1, 1), (1, -1) \\} $\n",
    "- Each step, the velocity $\\mathbf{v}$ is updated with these actions\n",
    "  - _note_: $\\mathbf{v}$ is restricted to be nonnegative and < 5. They cannot be zero except at the starting line. \n",
    "\n",
    "**Reward**\n",
    "- $\\mathcal{R} = \\{ -1 \\}$\n",
    "- Agent receives $r = -1$ for each step"
   ]
  },
  {
   "cell_type": "code",
   "execution_count": 32,
   "metadata": {},
   "outputs": [
    {
     "data": {
      "text/plain": [
       "array([[1., 0., 0., 0., 0., 0., 0., 0., 0., 0.],\n",
       "       [1., 0., 0., 0., 0., 0., 0., 0., 0., 0.],\n",
       "       [1., 0., 0., 0., 0., 0., 0., 0., 0., 0.],\n",
       "       [1., 0., 0., 0., 0., 0., 0., 0., 0., 0.],\n",
       "       [1., 0., 0., 0., 0., 0., 0., 0., 0., 0.],\n",
       "       [1., 0., 0., 0., 0., 1., 1., 1., 1., 1.],\n",
       "       [1., 0., 0., 0., 0., 1., 1., 1., 1., 1.],\n",
       "       [1., 0., 0., 0., 0., 1., 1., 1., 1., 1.],\n",
       "       [1., 0., 0., 0., 0., 1., 1., 1., 1., 1.],\n",
       "       [1., 0., 0., 0., 0., 1., 1., 1., 1., 1.],\n",
       "       [0., 0., 0., 0., 0., 1., 1., 1., 1., 1.],\n",
       "       [0., 0., 0., 0., 0., 1., 1., 1., 1., 1.],\n",
       "       [0., 0., 0., 0., 0., 1., 1., 1., 1., 1.],\n",
       "       [0., 0., 0., 0., 0., 1., 1., 1., 1., 1.],\n",
       "       [0., 0., 0., 0., 0., 1., 1., 1., 1., 1.],\n",
       "       [1., 1., 0., 0., 0., 1., 1., 1., 1., 1.],\n",
       "       [1., 1., 0., 0., 0., 1., 1., 1., 1., 1.],\n",
       "       [1., 1., 0., 0., 0., 1., 1., 1., 1., 1.],\n",
       "       [1., 1., 0., 0., 0., 1., 1., 1., 1., 1.],\n",
       "       [1., 1., 0., 0., 0., 1., 1., 1., 1., 1.]])"
      ]
     },
     "execution_count": 32,
     "metadata": {},
     "output_type": "execute_result"
    }
   ],
   "source": [
    "# Create environment\n",
    "rows = 10\n",
    "cols = 20\n",
    "\n",
    "race_track = np.zeros((rows, cols)).T\n",
    "\n",
    "race_track[5:, rows-5:] = 1\n",
    "race_track[:10, 0] = 1\n",
    "race_track[15:, 0] = 1\n",
    "race_track[15:, 1] = 1\n",
    "race_track\n",
    "\n",
    "#sns.heatmap(race_track)"
   ]
  },
  {
   "cell_type": "code",
   "execution_count": null,
   "metadata": {},
   "outputs": [],
   "source": []
  }
 ],
 "metadata": {
  "kernelspec": {
   "display_name": "rl",
   "language": "python",
   "name": "python3"
  },
  "language_info": {
   "codemirror_mode": {
    "name": "ipython",
    "version": 3
   },
   "file_extension": ".py",
   "mimetype": "text/x-python",
   "name": "python",
   "nbconvert_exporter": "python",
   "pygments_lexer": "ipython3",
   "version": "3.10.7"
  },
  "orig_nbformat": 4
 },
 "nbformat": 4,
 "nbformat_minor": 2
}
